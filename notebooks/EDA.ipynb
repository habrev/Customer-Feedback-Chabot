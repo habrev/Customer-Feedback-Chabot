{
 "cells": [
  {
   "cell_type": "markdown",
   "id": "18445806",
   "metadata": {},
   "source": [
    "# for checking the pulling effect of the github to local \n"
   ]
  }
 ],
 "metadata": {
  "language_info": {
   "name": "python"
  }
 },
 "nbformat": 4,
 "nbformat_minor": 5
}
